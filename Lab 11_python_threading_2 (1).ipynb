{
 "cells": [
  {
   "cell_type": "code",
   "execution_count": 5,
   "id": "1dca8682-a0d5-4365-a4f9-c496bb7a9c4a",
   "metadata": {},
   "outputs": [
    {
     "name": "stdout",
     "output_type": "stream",
     "text": [
      "John\n",
      "Mark\n",
      "Elon\n",
      "Callahan\n",
      "23\n",
      "21\n",
      "30\n",
      "23\n"
     ]
    }
   ],
   "source": [
    "import threading\n",
    "import time\n",
    "import random\n",
    "\n",
    "def print_names():\n",
    "    for name in ('John', 'Mark', 'Elon', 'Callahan'):\n",
    "        print (name)\n",
    "        time.sleep(random.uniform ( 0.5, 1.5))\n",
    "\n",
    "def print_ages():\n",
    "    for _ in range(4):\n",
    "        print(random.randint(20,50))\n",
    "        time.sleep(random.uniform(0.5,1.5))\n",
    "\n",
    "\n",
    "print_names()\n",
    "print_ages()\n",
    "        "
   ]
  },
  {
   "cell_type": "code",
   "execution_count": 10,
   "id": "b8e3c655-0f96-4590-a5c2-5eee77b01c5a",
   "metadata": {},
   "outputs": [
    {
     "name": "stdout",
     "output_type": "stream",
     "text": [
      "John\n",
      "45\n",
      "Mark\n",
      "34\n",
      "39\n",
      "Elon\n",
      "38\n",
      "Callahan\n"
     ]
    }
   ],
   "source": [
    "import threading\n",
    "import time\n",
    "import random\n",
    "\n",
    "def print_names():\n",
    "    for name in ('John', 'Mark', 'Elon', 'Callahan'):\n",
    "        print (name)\n",
    "        time.sleep(random.uniform ( 0.5, 1.5))\n",
    "\n",
    "def print_ages():\n",
    "    for _ in range(4):\n",
    "        print(random.randint(20,50))\n",
    "        time.sleep(random.uniform(0.5,1.5))\n",
    "\n",
    "\n",
    "t1 = threading.Thread(target = print_names)\n",
    "t2 = threading.Thread(target = print_ages)\n",
    "\n",
    "# The above threads are not doing anything yet. To do that, use start()\n",
    "\n",
    "t1.start()\n",
    "t2.start()\n",
    "\n",
    "# t1.join()\n",
    "# t2.join()\n",
    "        "
   ]
  },
  {
   "cell_type": "code",
   "execution_count": 9,
   "id": "57106c89-ca80-41ac-8b99-2be8001cb987",
   "metadata": {},
   "outputs": [
    {
     "name": "stdout",
     "output_type": "stream",
     "text": [
      "John\n",
      "21\n",
      "29\n",
      "Mark\n",
      "Elon\n",
      "42\n",
      "Callahan\n",
      "33\n"
     ]
    }
   ],
   "source": [
    "import threading\n",
    "import time\n",
    "import random\n",
    "\n",
    "def print_names():\n",
    "    for name in ('John', 'Mark', 'Elon', 'Callahan'):\n",
    "        print (name)\n",
    "        time.sleep(random.uniform ( 0.5, 1.5))\n",
    "\n",
    "def print_ages():\n",
    "    for _ in range(4):\n",
    "        print(random.randint(20,50))\n",
    "        time.sleep(random.uniform(0.5,1.5))\n",
    "\n",
    "\n",
    "t1 = threading.Thread(target = print_names)\n",
    "t2 = threading.Thread(target = print_ages)\n",
    "\n",
    "# The above threads are not doing anything yet. To do that, use start()\n",
    "\n",
    "t1.start()\n",
    "t2.start()\n",
    "\n",
    "t1.join()\n",
    "t2.join()\n",
    "        "
   ]
  },
  {
   "cell_type": "code",
   "execution_count": 11,
   "id": "77da0874-15bd-4243-b11e-6471333c7f73",
   "metadata": {},
   "outputs": [],
   "source": [
    "#The execution moves between the threads when one is sleeping to the other"
   ]
  },
  {
   "cell_type": "code",
   "execution_count": 9,
   "id": "e00c4fa4-765d-41e3-b254-905cfe0391e8",
   "metadata": {},
   "outputs": [
    {
     "name": "stdout",
     "output_type": "stream",
     "text": [
      "Downloading https://www.gutenberg.org/ebooks/8627/8627-readme.txt to Downloads/8627-readme.txt\n",
      "Finished Downloading Downloads/8627-readme.txt\n"
     ]
    },
    {
     "data": {
      "text/plain": [
       "[None]"
      ]
     },
     "execution_count": 9,
     "metadata": {},
     "output_type": "execute_result"
    }
   ],
   "source": [
    "import threading\n",
    "import requests\n",
    "from pathlib import Path\n",
    "\n",
    "def download_file(url, filename):\n",
    "    print(f'Downloading {url} to {filename}')\n",
    "    response = requests.get(url)\n",
    "    Path(filename).write_bytes(response.content)\n",
    "    print(f'Finished Downloading {filename}')\n",
    "\n",
    "base_url = \"https://www.gutenberg.org/ebooks/8627\"\n",
    "urls = [\n",
    "    f'{base_url}/8627-readme.txt',\n",
    "    #f'{base_url}/new_file.txt',\n",
    "]\n",
    "\n",
    "threads = []\n",
    "for url in urls:\n",
    "    filename = \"Downloads/\" + url.split(\"/\")[-1]\n",
    "    t = threading.Thread(target = download_file, args =(url,filename))\n",
    "    t.start()\n",
    "    threads.append(t)\n",
    "\n",
    "[t.join() for t in threads]\n",
    "\n",
    "       \n",
    "\n",
    "       \n",
    "    "
   ]
  },
  {
   "cell_type": "code",
   "execution_count": null,
   "id": "b8390d28-7bd8-4607-9778-d5340d8ab10b",
   "metadata": {},
   "outputs": [],
   "source": []
  }
 ],
 "metadata": {
  "kernelspec": {
   "display_name": "Python 3 (ipykernel)",
   "language": "python",
   "name": "python3"
  },
  "language_info": {
   "codemirror_mode": {
    "name": "ipython",
    "version": 3
   },
   "file_extension": ".py",
   "mimetype": "text/x-python",
   "name": "python",
   "nbconvert_exporter": "python",
   "pygments_lexer": "ipython3",
   "version": "3.13.2"
  }
 },
 "nbformat": 4,
 "nbformat_minor": 5
}
