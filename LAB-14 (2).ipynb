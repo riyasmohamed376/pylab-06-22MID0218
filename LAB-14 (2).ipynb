{
 "cells": [
  {
   "cell_type": "code",
   "execution_count": 1,
   "id": "f95764f0-106f-46d9-97e3-fe90906d34ad",
   "metadata": {},
   "outputs": [
    {
     "name": "stdout",
     "output_type": "stream",
     "text": [
      "csv file created succesfully\n"
     ]
    }
   ],
   "source": [
    "#handling csv\n",
    "import csv\n",
    "data=[\n",
    "    [\"name\",\"age\",\"parents income\"],\n",
    "    [\"riyas\",21,\"15L\"],\n",
    "    [\"sahil\",22,\"10L\"],\n",
    "    [\"raihan\",24,\"20L\"]\n",
    "]\n",
    "#writing csv file\n",
    "with open(\"students.csv\",\"w\",newline=\"\")as file:\n",
    "    writer=csv.writer(file)\n",
    "    writer.writerows(data)\n",
    "print(\"csv file created succesfully\")"
   ]
  },
  {
   "cell_type": "code",
   "execution_count": 2,
   "id": "1bf95f57-d69c-4d29-8cc8-f90f356dce2e",
   "metadata": {},
   "outputs": [
    {
     "name": "stdout",
     "output_type": "stream",
     "text": [
      "['name', 'age', 'parents income']\n",
      "['riyas', '21', '15L']\n",
      "['sahil', '22', '10L']\n",
      "['raihan', '24', '20L']\n"
     ]
    }
   ],
   "source": [
    "#reading csv files\n",
    "import csv\n",
    "def readcsv():\n",
    "    with open(\"students.csv\",newline=\"\")as csv_file:\n",
    "        csv_read=csv.reader(csv_file,delimiter=\",\")\n",
    "        for row in csv_read:\n",
    "            print(row)\n",
    "readcsv()"
   ]
  },
  {
   "cell_type": "code",
   "execution_count": 3,
   "id": "3a2acc5f-75b6-4ea2-ab59-0af29717fa87",
   "metadata": {},
   "outputs": [
    {
     "name": "stdout",
     "output_type": "stream",
     "text": [
      "new row appended successfully\n"
     ]
    }
   ],
   "source": [
    "#appending data to csv\n",
    "#new row to add\n",
    "new_row=[\"salam\",25,\"8L\"]\n",
    "#Append to csv file\n",
    "with open(\"students.csv\",mode=\"a\",newline=\"\")as file:\n",
    "    writer=csv.writer(file)\n",
    "    writer.writerow(new_row)\n",
    "print(\"new row appended successfully\")"
   ]
  },
  {
   "cell_type": "code",
   "execution_count": 4,
   "id": "212587e8-c831-433d-9102-57aaf51ca6ee",
   "metadata": {},
   "outputs": [
    {
     "name": "stdout",
     "output_type": "stream",
     "text": [
      "    name  age\n",
      "0   syed   25\n",
      "1  suheb   30\n",
      "    name  age\n",
      "0   syed   25\n",
      "1  suheb   30\n",
      "2  afran   35\n"
     ]
    }
   ],
   "source": [
    "#pandas with csv\n",
    "#creating, writing,reading,appending,updating\n",
    "import pandas as pd\n",
    "df=pd.DataFrame({\"name\":\n",
    "                 [\"syed\",\"suheb\"],\"age\":[25,30]})\n",
    "df.to_csv(\"data.csv\",index=False)  #using index=False to remove the row numbers and print only data\n",
    "\n",
    "#read\n",
    "print(pd.read_csv(\"data.csv\"))\n",
    "\n",
    "#append\n",
    "pd.DataFrame([{\"name\":\"afran\",\"age\":35}]).to_csv(\"data.csv\",mode=\"a\",index=False,header=False)  #using index=False to remove the row numbers and print only data\n",
    "\n",
    "#update\n",
    "df=pd.read_csv(\"data.csv\")\n",
    "df.loc[df[\"name\"]==\"alyan\",\"age\"]=32\n",
    "df.to_csv(\"data.csv\",index=False)   #using index=False to remove the row numbers and print only data\n",
    "\n",
    "print(pd.read_csv(\"data.csv\"))\n"
   ]
  },
  {
   "cell_type": "code",
   "execution_count": 5,
   "id": "d49e97c3-c2a0-42c5-b350-82bda23324da",
   "metadata": {},
   "outputs": [
    {
     "name": "stdout",
     "output_type": "stream",
     "text": [
      "{'name': 'alice', 'age': 25, 'job': 'engineer'}\n",
      "{\"name\": \"alice\", \"age\": 25, \"job\": \"engineer\"}\n",
      "{'name': 'alice', 'age': 25, 'job': 'engineer'}\n"
     ]
    }
   ],
   "source": [
    "#handling json \n",
    "import json\n",
    "#python objject (dict)\n",
    "data={\"name\":\"alice\",\"age\":25,\"job\":\"engineer\"}\n",
    "\n",
    "#dump (write to file)\n",
    "with open(\"data.json\",\"w\")as f:\n",
    "    json.dump(data,f)\n",
    "\n",
    "#load (read from file)\n",
    "with open(\"data.json\",\"r\")as f:\n",
    "    obj1=json.load(f)\n",
    "print(obj1)\n",
    "\n",
    "\n",
    "#dumps(convert to json string)\n",
    "json_str=json.dumps(data)\n",
    "print(json_str)\n",
    "\n",
    "#loads(converts string back to python object)\n",
    "obj2=json.loads(json_str)\n",
    "print(obj2)"
   ]
  },
  {
   "cell_type": "code",
   "execution_count": 6,
   "id": "d1de6c42-ebad-4789-a7fa-97022484d161",
   "metadata": {},
   "outputs": [
    {
     "ename": "ModuleNotFoundError",
     "evalue": "No module named 'openpyxl'",
     "output_type": "error",
     "traceback": [
      "\u001b[31m---------------------------------------------------------------------------\u001b[39m",
      "\u001b[31mModuleNotFoundError\u001b[39m                       Traceback (most recent call last)",
      "\u001b[36mCell\u001b[39m\u001b[36m \u001b[39m\u001b[32mIn[6]\u001b[39m\u001b[32m, line 6\u001b[39m\n\u001b[32m      3\u001b[39m data={\u001b[33m\"\u001b[39m\u001b[33mname\u001b[39m\u001b[33m\"\u001b[39m:[\u001b[33m\"\u001b[39m\u001b[33malice\u001b[39m\u001b[33m\"\u001b[39m,\u001b[33m\"\u001b[39m\u001b[33mbob\u001b[39m\u001b[33m\"\u001b[39m],\u001b[33m\"\u001b[39m\u001b[33mage\u001b[39m\u001b[33m\"\u001b[39m:[\u001b[32m25\u001b[39m,\u001b[32m30\u001b[39m]}\n\u001b[32m      4\u001b[39m df=pd.DataFrame(data)\n\u001b[32m----> \u001b[39m\u001b[32m6\u001b[39m \u001b[43mdf\u001b[49m\u001b[43m.\u001b[49m\u001b[43mto_excel\u001b[49m\u001b[43m(\u001b[49m\u001b[33;43m\"\u001b[39;49m\u001b[33;43mmyfile.xlsx\u001b[39;49m\u001b[33;43m\"\u001b[39;49m\u001b[43m,\u001b[49m\u001b[43mindex\u001b[49m\u001b[43m=\u001b[49m\u001b[38;5;28;43;01mFalse\u001b[39;49;00m\u001b[43m)\u001b[49m  \u001b[38;5;66;03m#using index=False to remove the row numbers and print only data\u001b[39;00m\n\u001b[32m      9\u001b[39m \u001b[38;5;66;03m#reading\u001b[39;00m\n\u001b[32m     10\u001b[39m df_read=pd.read_excel(\u001b[33m\"\u001b[39m\u001b[33mmyfile.xlsx\u001b[39m\u001b[33m\"\u001b[39m)\n",
      "\u001b[36mFile \u001b[39m\u001b[32m~\\AppData\\Local\\Programs\\Python\\Python313\\Lib\\site-packages\\pandas\\util\\_decorators.py:333\u001b[39m, in \u001b[36mdeprecate_nonkeyword_arguments.<locals>.decorate.<locals>.wrapper\u001b[39m\u001b[34m(*args, **kwargs)\u001b[39m\n\u001b[32m    327\u001b[39m \u001b[38;5;28;01mif\u001b[39;00m \u001b[38;5;28mlen\u001b[39m(args) > num_allow_args:\n\u001b[32m    328\u001b[39m     warnings.warn(\n\u001b[32m    329\u001b[39m         msg.format(arguments=_format_argument_list(allow_args)),\n\u001b[32m    330\u001b[39m         \u001b[38;5;167;01mFutureWarning\u001b[39;00m,\n\u001b[32m    331\u001b[39m         stacklevel=find_stack_level(),\n\u001b[32m    332\u001b[39m     )\n\u001b[32m--> \u001b[39m\u001b[32m333\u001b[39m \u001b[38;5;28;01mreturn\u001b[39;00m \u001b[43mfunc\u001b[49m\u001b[43m(\u001b[49m\u001b[43m*\u001b[49m\u001b[43margs\u001b[49m\u001b[43m,\u001b[49m\u001b[43m \u001b[49m\u001b[43m*\u001b[49m\u001b[43m*\u001b[49m\u001b[43mkwargs\u001b[49m\u001b[43m)\u001b[49m\n",
      "\u001b[36mFile \u001b[39m\u001b[32m~\\AppData\\Local\\Programs\\Python\\Python313\\Lib\\site-packages\\pandas\\core\\generic.py:2417\u001b[39m, in \u001b[36mNDFrame.to_excel\u001b[39m\u001b[34m(self, excel_writer, sheet_name, na_rep, float_format, columns, header, index, index_label, startrow, startcol, engine, merge_cells, inf_rep, freeze_panes, storage_options, engine_kwargs)\u001b[39m\n\u001b[32m   2404\u001b[39m \u001b[38;5;28;01mfrom\u001b[39;00m\u001b[38;5;250m \u001b[39m\u001b[34;01mpandas\u001b[39;00m\u001b[34;01m.\u001b[39;00m\u001b[34;01mio\u001b[39;00m\u001b[34;01m.\u001b[39;00m\u001b[34;01mformats\u001b[39;00m\u001b[34;01m.\u001b[39;00m\u001b[34;01mexcel\u001b[39;00m\u001b[38;5;250m \u001b[39m\u001b[38;5;28;01mimport\u001b[39;00m ExcelFormatter\n\u001b[32m   2406\u001b[39m formatter = ExcelFormatter(\n\u001b[32m   2407\u001b[39m     df,\n\u001b[32m   2408\u001b[39m     na_rep=na_rep,\n\u001b[32m   (...)\u001b[39m\u001b[32m   2415\u001b[39m     inf_rep=inf_rep,\n\u001b[32m   2416\u001b[39m )\n\u001b[32m-> \u001b[39m\u001b[32m2417\u001b[39m \u001b[43mformatter\u001b[49m\u001b[43m.\u001b[49m\u001b[43mwrite\u001b[49m\u001b[43m(\u001b[49m\n\u001b[32m   2418\u001b[39m \u001b[43m    \u001b[49m\u001b[43mexcel_writer\u001b[49m\u001b[43m,\u001b[49m\n\u001b[32m   2419\u001b[39m \u001b[43m    \u001b[49m\u001b[43msheet_name\u001b[49m\u001b[43m=\u001b[49m\u001b[43msheet_name\u001b[49m\u001b[43m,\u001b[49m\n\u001b[32m   2420\u001b[39m \u001b[43m    \u001b[49m\u001b[43mstartrow\u001b[49m\u001b[43m=\u001b[49m\u001b[43mstartrow\u001b[49m\u001b[43m,\u001b[49m\n\u001b[32m   2421\u001b[39m \u001b[43m    \u001b[49m\u001b[43mstartcol\u001b[49m\u001b[43m=\u001b[49m\u001b[43mstartcol\u001b[49m\u001b[43m,\u001b[49m\n\u001b[32m   2422\u001b[39m \u001b[43m    \u001b[49m\u001b[43mfreeze_panes\u001b[49m\u001b[43m=\u001b[49m\u001b[43mfreeze_panes\u001b[49m\u001b[43m,\u001b[49m\n\u001b[32m   2423\u001b[39m \u001b[43m    \u001b[49m\u001b[43mengine\u001b[49m\u001b[43m=\u001b[49m\u001b[43mengine\u001b[49m\u001b[43m,\u001b[49m\n\u001b[32m   2424\u001b[39m \u001b[43m    \u001b[49m\u001b[43mstorage_options\u001b[49m\u001b[43m=\u001b[49m\u001b[43mstorage_options\u001b[49m\u001b[43m,\u001b[49m\n\u001b[32m   2425\u001b[39m \u001b[43m    \u001b[49m\u001b[43mengine_kwargs\u001b[49m\u001b[43m=\u001b[49m\u001b[43mengine_kwargs\u001b[49m\u001b[43m,\u001b[49m\n\u001b[32m   2426\u001b[39m \u001b[43m\u001b[49m\u001b[43m)\u001b[49m\n",
      "\u001b[36mFile \u001b[39m\u001b[32m~\\AppData\\Local\\Programs\\Python\\Python313\\Lib\\site-packages\\pandas\\io\\formats\\excel.py:943\u001b[39m, in \u001b[36mExcelFormatter.write\u001b[39m\u001b[34m(self, writer, sheet_name, startrow, startcol, freeze_panes, engine, storage_options, engine_kwargs)\u001b[39m\n\u001b[32m    941\u001b[39m     need_save = \u001b[38;5;28;01mFalse\u001b[39;00m\n\u001b[32m    942\u001b[39m \u001b[38;5;28;01melse\u001b[39;00m:\n\u001b[32m--> \u001b[39m\u001b[32m943\u001b[39m     writer = \u001b[43mExcelWriter\u001b[49m\u001b[43m(\u001b[49m\n\u001b[32m    944\u001b[39m \u001b[43m        \u001b[49m\u001b[43mwriter\u001b[49m\u001b[43m,\u001b[49m\n\u001b[32m    945\u001b[39m \u001b[43m        \u001b[49m\u001b[43mengine\u001b[49m\u001b[43m=\u001b[49m\u001b[43mengine\u001b[49m\u001b[43m,\u001b[49m\n\u001b[32m    946\u001b[39m \u001b[43m        \u001b[49m\u001b[43mstorage_options\u001b[49m\u001b[43m=\u001b[49m\u001b[43mstorage_options\u001b[49m\u001b[43m,\u001b[49m\n\u001b[32m    947\u001b[39m \u001b[43m        \u001b[49m\u001b[43mengine_kwargs\u001b[49m\u001b[43m=\u001b[49m\u001b[43mengine_kwargs\u001b[49m\u001b[43m,\u001b[49m\n\u001b[32m    948\u001b[39m \u001b[43m    \u001b[49m\u001b[43m)\u001b[49m\n\u001b[32m    949\u001b[39m     need_save = \u001b[38;5;28;01mTrue\u001b[39;00m\n\u001b[32m    951\u001b[39m \u001b[38;5;28;01mtry\u001b[39;00m:\n",
      "\u001b[36mFile \u001b[39m\u001b[32m~\\AppData\\Local\\Programs\\Python\\Python313\\Lib\\site-packages\\pandas\\io\\excel\\_openpyxl.py:57\u001b[39m, in \u001b[36mOpenpyxlWriter.__init__\u001b[39m\u001b[34m(self, path, engine, date_format, datetime_format, mode, storage_options, if_sheet_exists, engine_kwargs, **kwargs)\u001b[39m\n\u001b[32m     44\u001b[39m \u001b[38;5;28;01mdef\u001b[39;00m\u001b[38;5;250m \u001b[39m\u001b[34m__init__\u001b[39m(\n\u001b[32m     45\u001b[39m     \u001b[38;5;28mself\u001b[39m,\n\u001b[32m     46\u001b[39m     path: FilePath | WriteExcelBuffer | ExcelWriter,\n\u001b[32m   (...)\u001b[39m\u001b[32m     55\u001b[39m ) -> \u001b[38;5;28;01mNone\u001b[39;00m:\n\u001b[32m     56\u001b[39m     \u001b[38;5;66;03m# Use the openpyxl module as the Excel writer.\u001b[39;00m\n\u001b[32m---> \u001b[39m\u001b[32m57\u001b[39m     \u001b[38;5;28;01mfrom\u001b[39;00m\u001b[38;5;250m \u001b[39m\u001b[34;01mopenpyxl\u001b[39;00m\u001b[34;01m.\u001b[39;00m\u001b[34;01mworkbook\u001b[39;00m\u001b[38;5;250m \u001b[39m\u001b[38;5;28;01mimport\u001b[39;00m Workbook\n\u001b[32m     59\u001b[39m     engine_kwargs = combine_kwargs(engine_kwargs, kwargs)\n\u001b[32m     61\u001b[39m     \u001b[38;5;28msuper\u001b[39m().\u001b[34m__init__\u001b[39m(\n\u001b[32m     62\u001b[39m         path,\n\u001b[32m     63\u001b[39m         mode=mode,\n\u001b[32m   (...)\u001b[39m\u001b[32m     66\u001b[39m         engine_kwargs=engine_kwargs,\n\u001b[32m     67\u001b[39m     )\n",
      "\u001b[31mModuleNotFoundError\u001b[39m: No module named 'openpyxl'"
     ]
    }
   ],
   "source": [
    "#handling excel \n",
    "import pandas as pd\n",
    "data={\"name\":[\"alice\",\"bob\"],\"age\":[25,30]}\n",
    "df=pd.DataFrame(data)\n",
    "\n",
    "df.to_excel(\"myfile.xlsx\",index=False)  #using index=False to remove the row numbers and print only data\n",
    "\n",
    "\n",
    "#reading\n",
    "df_read=pd.read_excel(\"myfile.xlsx\")\n",
    "print(\"read from excel:\\n\",df_read)"
   ]
  },
  {
   "cell_type": "code",
   "execution_count": null,
   "id": "95af7000-5133-49c3-8d69-326cbbf9a394",
   "metadata": {},
   "outputs": [],
   "source": [
    "#writing multiple sheets\n",
    "with pd.ExcelWriter(\"multi_sheets.xlsx\")as writer:\n",
    "    df.to_excel(writer,sheet_name=\"original\",index=False)  #using index=False to remove the row numbers and print only data\n",
    "    (df*2).to_excel(writer,sheet_name=\"Doubled\",index=False)  #using index=False to remove the row numbers and print only data\n",
    "\n",
    "#read specific sheet\n",
    "df_sheet=pd.read_excel(\"multi_sheets.xlsx\",sheet_name=\"Doubled\")\n",
    "print(\"\\nData from 'Doubled' sheet:\\n\",df_sheet)"
   ]
  },
  {
   "cell_type": "code",
   "execution_count": null,
   "id": "8934109a-1764-4920-a55e-5f47dd5f5a0c",
   "metadata": {},
   "outputs": [],
   "source": []
  }
 ],
 "metadata": {
  "kernelspec": {
   "display_name": "Python 3 (ipykernel)",
   "language": "python",
   "name": "python3"
  },
  "language_info": {
   "codemirror_mode": {
    "name": "ipython",
    "version": 3
   },
   "file_extension": ".py",
   "mimetype": "text/x-python",
   "name": "python",
   "nbconvert_exporter": "python",
   "pygments_lexer": "ipython3",
   "version": "3.13.2"
  }
 },
 "nbformat": 4,
 "nbformat_minor": 5
}
