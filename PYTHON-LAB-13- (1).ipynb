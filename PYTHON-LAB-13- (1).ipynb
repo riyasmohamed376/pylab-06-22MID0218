{
 "cells": [
  {
   "cell_type": "code",
   "execution_count": 1,
   "id": "f9c2034d-c8d1-4000-bec6-e103d5d73482",
   "metadata": {},
   "outputs": [
    {
     "name": "stdout",
     "output_type": "stream",
     "text": [
      "2\n"
     ]
    }
   ],
   "source": [
    "import numpy as np\n",
    "arr = np.array([[1, 2, 3], [4, 5, 6]])\n",
    "print(arr.ndim)\n"
   ]
  },
  {
   "cell_type": "code",
   "execution_count": 2,
   "id": "7e58b079-77c1-425d-bb00-2309c8d34505",
   "metadata": {},
   "outputs": [
    {
     "name": "stdout",
     "output_type": "stream",
     "text": [
      "Original array: [1 2 3 4 5 6]\n",
      "Original shape: (6,)\n",
      "[[1 2 3]\n",
      " [4 5 6]]\n",
      "New shape: (2, 3)\n"
     ]
    }
   ],
   "source": [
    "# Creating a 1D array\n",
    "arr = np.array([1, 2, 3, 4, 5, 6])\n",
    "print(\"Original array:\", arr)\n",
    "print(\"Original shape:\", arr.shape)\n",
    "\n",
    "# Reshape to a 2D array 2 rows and 3 columns\n",
    "reshaped_arr = arr.reshape(2, 3)\n",
    "print(reshaped_arr)\n",
    "print(\"New shape:\", reshaped_arr.shape)"
   ]
  },
  {
   "cell_type": "code",
   "execution_count": 3,
   "id": "f24c3871-2960-4509-a436-1187e81f0d0b",
   "metadata": {},
   "outputs": [],
   "source": [
    "def pythonsum(n):\n",
    "   a = range(n)\n",
    "   b = range(n)\n",
    "   c = []\n",
    "   for i in range(n):\n",
    "       a[i] = i ** 2\n",
    "       b[i] = i ** 3\n",
    "       c.append(a[i] + b[i])\n",
    "   return c"
   ]
  },
  {
   "cell_type": "code",
   "execution_count": 4,
   "id": "93d673a4-b683-4a3b-93f0-98cdc9953aff",
   "metadata": {},
   "outputs": [],
   "source": [
    "def pythonsum(n):\n",
    "    a = [0] * n\n",
    "    b = [0] * n\n",
    "    c = []\n",
    "    for i in range(n):\n",
    "        a[i] = i ** 2\n",
    "        b[i] = i ** 3\n",
    "        c.append(a[i] + b[i])\n",
    "    return c\n"
   ]
  },
  {
   "cell_type": "code",
   "execution_count": 5,
   "id": "fb592690-df43-4693-adb6-13e2f13d3a75",
   "metadata": {},
   "outputs": [],
   "source": [
    "import numpy as np\n",
    "def numpysum(n):\n",
    "  a = np.arange(n) ** 2  \n",
    "  b = np.arange(n) ** 3\n",
    "  c = a + b #element wise adding \n",
    "  return c"
   ]
  },
  {
   "cell_type": "code",
   "execution_count": 6,
   "id": "bff4168e-f685-4655-9ac1-8f93cc7c469b",
   "metadata": {},
   "outputs": [
    {
     "data": {
      "text/plain": [
       "array([ 0,  2, 12])"
      ]
     },
     "execution_count": 6,
     "metadata": {},
     "output_type": "execute_result"
    }
   ],
   "source": [
    "numpysum(3)"
   ]
  },
  {
   "cell_type": "code",
   "execution_count": 7,
   "id": "358e64b7-2447-482f-a43d-403200d9ba58",
   "metadata": {},
   "outputs": [],
   "source": [
    "#Creating Arrays from Sequences\n",
    "#a list of numbers will create a 1D array\n",
    "#a list of lists will create a 2D array\n",
    "#further nested lists will create higher-dimensional arrays\n",
    "#In general, any array object is called an ndarray in NumPy"
   ]
  },
  {
   "cell_type": "code",
   "execution_count": 8,
   "id": "637d079f-aa83-4dcc-8cb3-4d839caa6ef2",
   "metadata": {},
   "outputs": [],
   "source": [
    "import numpy as np\n",
    "a1D = np.array([1, 2, 3, 4])\n",
    "a2D = np.array([[1, 2], [3, 4]])\n",
    "a3D = np.array([[[1, 2], [3, 4]], [[5, 6], [7, 8]]])"
   ]
  },
  {
   "cell_type": "code",
   "execution_count": 1,
   "id": "881e42ff-0071-4cc0-8e7b-5d03ee0297ee",
   "metadata": {},
   "outputs": [
    {
     "data": {
      "text/plain": [
       "array([127, 128, 129])"
      ]
     },
     "execution_count": 1,
     "metadata": {},
     "output_type": "execute_result"
    }
   ],
   "source": [
    "import numpy as np\n",
    "np.array([127, 128, 129], dtype=np.int32) "
   ]
  },
  {
   "cell_type": "code",
   "execution_count": 2,
   "id": "76cfd0ad-bdb5-4f6f-86d6-8f774ae06226",
   "metadata": {},
   "outputs": [
    {
     "name": "stderr",
     "output_type": "stream",
     "text": [
      "C:\\Users\\syeds\\AppData\\Local\\Temp\\ipykernel_19600\\3984902477.py:2: DeprecationWarning: NumPy will stop allowing conversion of out-of-bound Python integers to integer arrays.  The conversion of 128 to int8 will fail in the future.\n",
      "For the old behavior, usually:\n",
      "    np.array(value).astype(dtype)\n",
      "will give the desired result (the cast overflows).\n",
      "  np.array([127, 128, 129], dtype=np.int8)\n",
      "C:\\Users\\syeds\\AppData\\Local\\Temp\\ipykernel_19600\\3984902477.py:2: DeprecationWarning: NumPy will stop allowing conversion of out-of-bound Python integers to integer arrays.  The conversion of 129 to int8 will fail in the future.\n",
      "For the old behavior, usually:\n",
      "    np.array(value).astype(dtype)\n",
      "will give the desired result (the cast overflows).\n",
      "  np.array([127, 128, 129], dtype=np.int8)\n"
     ]
    },
    {
     "data": {
      "text/plain": [
       "array([ 127, -128, -127], dtype=int8)"
      ]
     },
     "execution_count": 2,
     "metadata": {},
     "output_type": "execute_result"
    }
   ],
   "source": [
    "import numpy as np\n",
    "np.array([127, 128, 129], dtype=np.int8)\n",
    "# we are getting error here,since numpy stops allowing conversion from out of bound integer to integer array"
   ]
  },
  {
   "cell_type": "code",
   "execution_count": 3,
   "id": "5f395b9a-3c39-4d84-8b73-ef896983994a",
   "metadata": {},
   "outputs": [
    {
     "data": {
      "text/plain": [
       "array([2. , 2.1, 2.2, 2.3, 2.4, 2.5, 2.6, 2.7, 2.8, 2.9])"
      ]
     },
     "execution_count": 3,
     "metadata": {},
     "output_type": "execute_result"
    }
   ],
   "source": [
    "#functions for creating arrays\n",
    "import numpy as np\n",
    "np.arange(2, 3, 0.1) #?"
   ]
  },
  {
   "cell_type": "code",
   "execution_count": 4,
   "id": "6b97f27e-811e-467a-bda3-715c28f4c785",
   "metadata": {},
   "outputs": [],
   "source": [
    "#best practice for numpy.arange is to use integer start, end, and step values."
   ]
  },
  {
   "cell_type": "code",
   "execution_count": 5,
   "id": "46f65fb4-0d33-4262-a9e4-e4746110887f",
   "metadata": {},
   "outputs": [
    {
     "data": {
      "text/plain": [
       "array([1. , 1.6, 2.2, 2.8, 3.4, 4. ])"
      ]
     },
     "execution_count": 5,
     "metadata": {},
     "output_type": "execute_result"
    }
   ],
   "source": [
    "np.linspace(1., 4., 6)\n"
   ]
  },
  {
   "cell_type": "code",
   "execution_count": 6,
   "id": "3ad958f7-4450-4437-9c0d-48388a8ec30f",
   "metadata": {},
   "outputs": [
    {
     "data": {
      "text/plain": [
       "array([[1., 0., 0., 0., 0.],\n",
       "       [0., 1., 0., 0., 0.],\n",
       "       [0., 0., 1., 0., 0.]])"
      ]
     },
     "execution_count": 6,
     "metadata": {},
     "output_type": "execute_result"
    }
   ],
   "source": [
    "#2D Array Creation\n",
    "#The 2D array creation functions e.g. numpy.eye, numpy.diag, and numpy.vander define \n",
    "#properties of special matrices represented as 2D arrays.\n",
    "import numpy as np\n",
    "#np.eye(3)\n",
    "np.eye(3, 5)"
   ]
  },
  {
   "cell_type": "code",
   "execution_count": 7,
   "id": "f769c7f2-acfe-49ee-bf2d-1eed274a20ed",
   "metadata": {},
   "outputs": [
    {
     "data": {
      "text/plain": [
       "array([[0., 0., 0., 0., 0.],\n",
       "       [0., 0., 0., 0., 0.],\n",
       "       [1., 0., 0., 0., 0.]])"
      ]
     },
     "execution_count": 7,
     "metadata": {},
     "output_type": "execute_result"
    }
   ],
   "source": [
    "np.eye(3, 5, k=-2) #optional k argument"
   ]
  },
  {
   "cell_type": "code",
   "execution_count": 8,
   "id": "6a2806a0-b980-499e-abaf-629afb635c61",
   "metadata": {},
   "outputs": [
    {
     "data": {
      "text/plain": [
       "array([[0, 1, 0, 0],\n",
       "       [0, 0, 2, 0],\n",
       "       [0, 0, 0, 3],\n",
       "       [0, 0, 0, 0]])"
      ]
     },
     "execution_count": 8,
     "metadata": {},
     "output_type": "execute_result"
    }
   ],
   "source": [
    "import numpy as np\n",
    "#np.diag([1, 2, 3])\n",
    "np.diag([1, 2, 3], 1)\n",
    "#a = np.array([[1, 2], [3, 4]])\n",
    "#np.diag(a)"
   ]
  },
  {
   "cell_type": "code",
   "execution_count": 9,
   "id": "e6b4170d-9ecc-4ec1-942c-09c546829811",
   "metadata": {},
   "outputs": [],
   "source": [
    "#Vandermonde Matrix\n",
    "import numpy as np\n",
    "#np.vander(np.linspace(0, 2, 5), 2)\n",
    "#np.vander([1, 2, 3, 4], 2)\n",
    "#np.vander((1, 2, 3, 4), 4)"
   ]
  },
  {
   "cell_type": "code",
   "execution_count": 10,
   "id": "2fe7db07-3327-4216-8c4b-54f455245906",
   "metadata": {},
   "outputs": [
    {
     "data": {
      "text/plain": [
       "array([[1, 1],\n",
       "       [2, 1],\n",
       "       [3, 1],\n",
       "       [4, 1]])"
      ]
     },
     "execution_count": 10,
     "metadata": {},
     "output_type": "execute_result"
    }
   ],
   "source": [
    "np.vander(np.linspace(0, 2, 5), 2)\n",
    "#np.linspace(0, 2, 5) → [0. , 0.5, 1. , 1.5, 2. ]\n",
    "\n",
    "np.vander([1, 2, 3, 4], 2)\n",
    "#Input: [1, 2, 3, 4]\n",
    "# No of Columns 2\n"
   ]
  },
  {
   "cell_type": "code",
   "execution_count": null,
   "id": "055f95f9-4a16-47cf-b50c-cf7cf0a2eb38",
   "metadata": {},
   "outputs": [],
   "source": []
  }
 ],
 "metadata": {
  "kernelspec": {
   "display_name": "Python 3 (ipykernel)",
   "language": "python",
   "name": "python3"
  },
  "language_info": {
   "codemirror_mode": {
    "name": "ipython",
    "version": 3
   },
   "file_extension": ".py",
   "mimetype": "text/x-python",
   "name": "python",
   "nbconvert_exporter": "python",
   "pygments_lexer": "ipython3",
   "version": "3.12.3"
  }
 },
 "nbformat": 4,
 "nbformat_minor": 5
}
