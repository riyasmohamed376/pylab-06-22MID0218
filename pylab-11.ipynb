{
 "cells": [
  {
   "cell_type": "code",
   "execution_count": 1,
   "id": "16f7c32d-246d-4c4f-a714-842e5b77a121",
   "metadata": {},
   "outputs": [
    {
     "name": "stdout",
     "output_type": "stream",
     "text": [
      "Sleeping 1 second...\n",
      "Done Sleeping\n",
      "Finished in 1.0 seconds\n"
     ]
    }
   ],
   "source": [
    "# We use threading when we want to significantly speed up the program, but it depends on the task that you are doing\n",
    "import time\n",
    "\n",
    "start = time.perf_counter() #using to find the time the entrirer sequecnce takes from here\n",
    "\n",
    "def do_something():\n",
    "    print('Sleeping 1 second...')\n",
    "    time.sleep(1)\n",
    "    print('Done Sleeping')\n",
    "\n",
    "do_something()\n",
    "\n",
    "finish = time.perf_counter() #using to find the time the entrirer sequecnce takes from here\n",
    "\n",
    "\n",
    "print(f'Finished in {round(finish-start,2)} seconds')"
   ]
  },
  {
   "cell_type": "code",
   "execution_count": 2,
   "id": "e7cb21f7-eabf-4bcc-8946-1c79d9694755",
   "metadata": {},
   "outputs": [
    {
     "name": "stdout",
     "output_type": "stream",
     "text": [
      "Sleeping 1 second...\n",
      "Done Sleeping\n",
      "Sleeping 1 second...\n",
      "Done Sleeping\n",
      "Finished in 2.0 seconds\n"
     ]
    }
   ],
   "source": [
    "# We will run the function twice\n",
    "# We use threading when we want to significantly speed up the program, but it depends on the task that you are doing\n",
    "import time\n",
    "\n",
    "start = time.perf_counter() #to find the time the entrire sequecnce takes from here\n",
    "\n",
    "def do_something():\n",
    "    print('Sleeping 1 second...')\n",
    "    time.sleep(1)\n",
    "    print('Done Sleeping')\n",
    "\n",
    "do_something()\n",
    "do_something()\n",
    "\n",
    "finish = time.perf_counter() #to find the time the entrire sequecnce till here\n",
    "\n",
    "\n",
    "print(f'Finished in {round(finish-start,2)} seconds')"
   ]
  },
  {
   "cell_type": "code",
   "execution_count": 3,
   "id": "a11a5f83-2c4e-4f59-9d23-46430998d11c",
   "metadata": {},
   "outputs": [
    {
     "name": "stdout",
     "output_type": "stream",
     "text": [
      "Finished in 0.0 seconds\n"
     ]
    }
   ],
   "source": [
    "import threading     #no need to install, its already a part of python package, this is the traditional way of doing threading, more effective ways are done with pools\n",
    "import time\n",
    "\n",
    "start = time.perf_counter() \n",
    "\n",
    "def do_something():\n",
    "    print('Sleeping 1 second...')\n",
    "    time.sleep(1)\n",
    "    print('Done Sleeping')\n",
    "\n",
    "#instead the running the two functions like this, threads are used both of these\n",
    "#do_something()\n",
    "#do_something()\n",
    "\n",
    "t1 = threading.Thread(target = do_something) #do not pass the function with (), as we dont intend to run the function, just pass it\n",
    "t2 = threading.Thread(target = do_something)\n",
    "\n",
    "finish = time.perf_counter() #using to find the time the entrirer sequecnce takes from here\n",
    "\n",
    "\n",
    "print(f'Finished in {round(finish-start,2)} seconds')"
   ]
  },
  {
   "cell_type": "code",
   "execution_count": 4,
   "id": "6c155e20-1622-476e-81c7-f496b92ce173",
   "metadata": {},
   "outputs": [
    {
     "name": "stdout",
     "output_type": "stream",
     "text": [
      "Sleeping 1 second...Sleeping 1 second...\n",
      "\n",
      "Finished in 0.01 seconds\n",
      "Done Sleeping\n",
      "Done Sleeping\n"
     ]
    }
   ],
   "source": [
    "import threading     #no need to install, its already a part of python package, this is the traditional way of doing threading, more effective ways are done with pools\n",
    "import time\n",
    "\n",
    "start = time.perf_counter() #using to find the time the entrirer sequecnce takes from here\n",
    "\n",
    "def do_something():\n",
    "    print('Sleeping 1 second...')\n",
    "    time.sleep(1)\n",
    "    print('Done Sleeping')\n",
    "\n",
    "#instead the running the two functions like this, threads are used both of these\n",
    "#do_something()\n",
    "#do_something()\n",
    "\n",
    "t1 = threading.Thread(target = do_something) #do not pass the function with (), as we dont intend to run the function, just pass it\n",
    "t2 = threading.Thread(target = do_something)\n",
    "\n",
    "t1.start()\n",
    "t2.start()\n",
    "\n",
    "finish = time.perf_counter() #using to find the time the entrirer sequecnce takes from here\n",
    "\n",
    "\n",
    "print(f'Finished in {round(finish-start,2)} seconds')"
   ]
  },
  {
   "cell_type": "code",
   "execution_count": 5,
   "id": "069e2ee9-bb4a-4368-ad99-1bcadc026f8d",
   "metadata": {},
   "outputs": [
    {
     "name": "stdout",
     "output_type": "stream",
     "text": [
      "Sleeping 1 second...Sleeping 1 second...\n",
      "\n",
      "Done SleepingDone Sleeping\n",
      "\n",
      "Finished in 1.02 seconds\n"
     ]
    }
   ],
   "source": [
    "import threading    \n",
    "import time\n",
    "\n",
    "start = time.perf_counter() \n",
    "def do_something():\n",
    "    print('Sleeping 1 second...')\n",
    "    time.sleep(1)\n",
    "    print('Done Sleeping')\n",
    "\n",
    "#instead the running the two functions like this, threads are used both of these\n",
    "#do_something()\n",
    "#do_something()\n",
    "\n",
    "t1 = threading.Thread(target = do_something) #do not pass the function with (), as we dont intend to run the function, just pass it\n",
    "t2 = threading.Thread(target = do_something)\n",
    "\n",
    "t1.start()\n",
    "t2.start()\n",
    "\n",
    "t1.join()\n",
    "t2.join()\n",
    "\n",
    "finish = time.perf_counter() #using to find the time the entrirer sequecnce takes from here\n",
    "\n",
    "\n",
    "print(f'Finished in {round(finish-start,2)} seconds')"
   ]
  },
  {
   "cell_type": "code",
   "execution_count": 6,
   "id": "fb781b48-c159-4ee8-8165-e91a8893ed02",
   "metadata": {},
   "outputs": [
    {
     "name": "stdout",
     "output_type": "stream",
     "text": [
      "Sleeping 1 second...\n",
      "Sleeping 1 second...\n",
      "Sleeping 1 second...\n",
      "Sleeping 1 second...\n",
      "Sleeping 1 second...\n",
      "Sleeping 1 second...\n",
      "Sleeping 1 second...\n",
      "Sleeping 1 second...\n",
      "Sleeping 1 second...\n",
      "Sleeping 1 second...\n",
      "Finished in 0.04 seconds\n",
      "Done Sleeping\n",
      "Done Sleeping\n",
      "Done Sleeping\n",
      "Done Sleeping\n",
      "Done Sleeping\n",
      "Done Sleeping\n",
      "Done Sleeping\n",
      "Done Sleeping\n",
      "Done Sleeping\n",
      "Done Sleeping\n"
     ]
    }
   ],
   "source": [
    "import threading     #no need to install, its already a part of python package, this is the traditional way of doing threading, more effective ways are done with pools\n",
    "import time\n",
    "\n",
    "start = time.perf_counter() #using to find the time the entrirer sequecnce takes from here\n",
    "\n",
    "def do_something():\n",
    "    print('Sleeping 1 second...')\n",
    "    time.sleep(1)\n",
    "    print('Done Sleeping')\n",
    "\n",
    "for _ in range(10):      # underscore variable is a throwaway variable to simply loop for 10 times and we are not doing anything else with it in the loop\n",
    "    t = threading.Thread(target = do_something)\n",
    "    t.start()            # We cant use join() within the loop as it will join on the thread before looping through, creating and starting the next thread, it becomes like synchronous execution as shown in the first diagram\n",
    "                         # To do this we can create a list of threads and perform join()\n",
    "\n",
    "\n",
    "finish = time.perf_counter() #using to find the time the entrirer sequecnce takes from here\n",
    "\n",
    "\n",
    "print(f'Finished in {round(finish-start,2)} seconds')"
   ]
  },
  {
   "cell_type": "code",
   "execution_count": 7,
   "id": "890f9fc4-1cc2-448b-b28a-34e7381a3ea8",
   "metadata": {},
   "outputs": [
    {
     "name": "stdout",
     "output_type": "stream",
     "text": [
      "Sleeping 1 second...\n",
      "Sleeping 1 second...\n",
      "Sleeping 1 second...\n",
      "Sleeping 1 second...\n",
      "Sleeping 1 second...\n",
      "Sleeping 1 second...\n",
      "Sleeping 1 second...\n",
      "Sleeping 1 second...\n",
      "Sleeping 1 second...\n",
      "Sleeping 1 second...\n",
      "Done Sleeping\n",
      "Done Sleeping\n",
      "Done Sleeping\n",
      "Done Sleeping\n",
      "Done Sleeping\n",
      "Done Sleeping\n",
      "Done Sleeping\n",
      "Done Sleeping\n",
      "Done Sleeping\n",
      "Done Sleeping\n",
      "Finished in 1.02 seconds\n"
     ]
    }
   ],
   "source": [
    "# Threading effect with 10 calls\n",
    "import threading    \n",
    "import time\n",
    "\n",
    "start = time.perf_counter() \n",
    "\n",
    "def do_something():\n",
    "    print('Sleeping 1 second...')\n",
    "    time.sleep(1)\n",
    "    print('Done Sleeping')\n",
    "\n",
    "threads = []\n",
    "    \n",
    "for _ in range(10):     \n",
    "    t = threading.Thread(target = do_something)\n",
    "    t.start()  \n",
    "    threads.append(t)\n",
    "\n",
    "for thread in threads:\n",
    "    thread.join()    \n",
    "\n",
    "    \n",
    "finish = time.perf_counter()\n",
    "\n",
    "\n",
    "print(f'Finished in {round(finish-start,2)} seconds')"
   ]
  },
  {
   "cell_type": "code",
   "execution_count": 8,
   "id": "49a04b7a-d659-4bbb-893d-ddabe7e72649",
   "metadata": {},
   "outputs": [
    {
     "name": "stdout",
     "output_type": "stream",
     "text": [
      "Sleeping 1.5 second(s)...\n",
      "Sleeping 1.5 second(s)...\n",
      "Sleeping 1.5 second(s)...\n",
      "Sleeping 1.5 second(s)...\n",
      "Sleeping 1.5 second(s)...\n",
      "Sleeping 1.5 second(s)...\n",
      "Sleeping 1.5 second(s)...\n",
      "Sleeping 1.5 second(s)...\n",
      "Sleeping 1.5 second(s)...\n",
      "Sleeping 1.5 second(s)...\n",
      "Done Sleeping\n",
      "Done Sleeping\n",
      "Done Sleeping\n",
      "Done Sleeping\n",
      "Done Sleeping\n",
      "Done Sleeping\n",
      "Done Sleeping\n",
      "Done Sleeping\n",
      "Done Sleeping\n",
      "Done Sleeping\n",
      "Finished in 1.52 seconds\n"
     ]
    }
   ],
   "source": [
    "# Threading fucntions with arguments\n",
    "\n",
    "# Threading effect with 10 calls\n",
    "import threading    \n",
    "import time\n",
    "\n",
    "start = time.perf_counter() \n",
    "\n",
    "def do_something(seconds):                    #argument passed here\n",
    "    print(f'Sleeping {seconds} second(s)...') #fstring\n",
    "    time.sleep(seconds)\n",
    "    print('Done Sleeping')\n",
    "\n",
    "threads = []\n",
    "    \n",
    "for _ in range(10):     \n",
    "    t = threading.Thread(target = do_something, args = [1.5]) #same argument for all threads in the list\n",
    "    t.start()  \n",
    "    threads.append(t)\n",
    "\n",
    "for thread in threads:\n",
    "    thread.join()    \n",
    "\n",
    "    \n",
    "finish = time.perf_counter()\n",
    "\n",
    "\n",
    "print(f'Finished in {round(finish-start,2)} seconds')\n"
   ]
  },
  {
   "cell_type": "code",
   "execution_count": 9,
   "id": "f52e1929-7778-4e51-b941-1884ad491523",
   "metadata": {},
   "outputs": [
    {
     "name": "stdout",
     "output_type": "stream",
     "text": [
      "Sleeping 1 second(s)...\n",
      "Done Sleeping...\n",
      "Finished in 1.01 seconds\n"
     ]
    }
   ],
   "source": [
    "import concurrent.futures\n",
    "# import threading    - Not required\n",
    "import time\n",
    "\n",
    "start = time.perf_counter() \n",
    "\n",
    "def do_something(seconds):                    \n",
    "    print(f'Sleeping {seconds} second(s)...') \n",
    "    time.sleep(seconds)\n",
    "    #print('Done Sleeping')\n",
    "    return 'Done Sleeping...'\n",
    "\n",
    "with concurrent.futures.ThreadPoolExecutor() as executor:\n",
    "    f1 = executor.submit(do_something, 1)  #submit function will schedule the execution of function and returns a furture object\n",
    "    print(f1.result())\n",
    "\n",
    "   \n",
    "finish = time.perf_counter()\n",
    "\n",
    "\n",
    "print(f'Finished in {round(finish-start,2)} seconds')\n"
   ]
  },
  {
   "cell_type": "code",
   "execution_count": 10,
   "id": "763eb006-a34f-44ff-a217-87737636614e",
   "metadata": {},
   "outputs": [
    {
     "name": "stdout",
     "output_type": "stream",
     "text": [
      "Sleeping 1 second(s)...\n",
      "Sleeping 1 second(s)...\n",
      "Done Sleeping...\n",
      "Done Sleeping...\n",
      "Finished in 1.01 seconds\n"
     ]
    }
   ],
   "source": [
    "import concurrent.futures\n",
    "# import threading    - Not required\n",
    "import time\n",
    "\n",
    "start = time.perf_counter() \n",
    "\n",
    "def do_something(seconds):                    \n",
    "    print(f'Sleeping {seconds} second(s)...') \n",
    "    time.sleep(seconds)\n",
    "    #print('Done Sleeping')\n",
    "    return 'Done Sleeping...'\n",
    "\n",
    "with concurrent.futures.ThreadPoolExecutor() as executor:\n",
    "    f1 = executor.submit(do_something, 1)  #submit function will schedule the execution of function and returns a furture object\n",
    "    f2 = executor.submit(do_something, 1)\n",
    "    print(f1.result())\n",
    "    print(f2.result())\n",
    "\n",
    "   \n",
    "finish = time.perf_counter()\n",
    "\n",
    "\n",
    "print(f'Finished in {round(finish-start,2)} seconds')\n"
   ]
  },
  {
   "cell_type": "code",
   "execution_count": 11,
   "id": "4f98382c-b673-48ee-a0bf-d28961edbb22",
   "metadata": {},
   "outputs": [
    {
     "name": "stdout",
     "output_type": "stream",
     "text": [
      "Sleeping 1 second(s)...Sleeping 1 second(s)...\n",
      "\n",
      "Sleeping 1 second(s)...\n",
      "Sleeping 1 second(s)...\n",
      "Sleeping 1 second(s)...\n",
      "Sleeping 1 second(s)...\n",
      "Sleeping 1 second(s)...\n",
      "Sleeping 1 second(s)...\n",
      "Sleeping 1 second(s)...\n",
      "Sleeping 1 second(s)...\n",
      "Done Sleeping...\n",
      "Done Sleeping...\n",
      "Done Sleeping...\n",
      "Done Sleeping...\n",
      "Done Sleeping...\n",
      "Done Sleeping...\n",
      "Done Sleeping...\n",
      "Done Sleeping...\n",
      "Done Sleeping...\n",
      "Done Sleeping...\n",
      "Finished in 1.01 seconds\n"
     ]
    }
   ],
   "source": [
    "import concurrent.futures\n",
    "import time\n",
    "\n",
    "start = time.perf_counter() \n",
    "\n",
    "def do_something(seconds):                    \n",
    "    print(f'Sleeping {seconds} second(s)...') \n",
    "    time.sleep(seconds)\n",
    "    return 'Done Sleeping...'\n",
    "\n",
    "with concurrent.futures.ThreadPoolExecutor() as executor:\n",
    "    results = [executor.submit(do_something, 1) for _ in range(10)] #list comprehension, alternative to loop\n",
    "\n",
    "    for f in concurrent.futures.as_completed(results):\n",
    "        print(f.result())\n",
    "      \n",
    "\n",
    "   \n",
    "finish = time.perf_counter()\n",
    "\n",
    "\n",
    "print(f'Finished in {round(finish-start,2)} seconds')\n"
   ]
  },
  {
   "cell_type": "code",
   "execution_count": null,
   "id": "f65c8083-d105-4e52-a267-15bdf2082fd8",
   "metadata": {},
   "outputs": [],
   "source": []
  }
 ],
 "metadata": {
  "kernelspec": {
   "display_name": "Python 3 (ipykernel)",
   "language": "python",
   "name": "python3"
  },
  "language_info": {
   "codemirror_mode": {
    "name": "ipython",
    "version": 3
   },
   "file_extension": ".py",
   "mimetype": "text/x-python",
   "name": "python",
   "nbconvert_exporter": "python",
   "pygments_lexer": "ipython3",
   "version": "3.13.2"
  }
 },
 "nbformat": 4,
 "nbformat_minor": 5
}
