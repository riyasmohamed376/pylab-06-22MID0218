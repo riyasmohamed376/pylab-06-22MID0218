{
 "cells": [
  {
   "cell_type": "code",
   "execution_count": 2,
   "id": "f95764f0-106f-46d9-97e3-fe90906d34ad",
   "metadata": {},
   "outputs": [
    {
     "name": "stdout",
     "output_type": "stream",
     "text": [
      "csv file created succesfully\n"
     ]
    }
   ],
   "source": [
    "#handling csv\n",
    "import csv\n",
    "data=[\n",
    "    [\"name\",\"age\",\"parents income\"],\n",
    "    [\"sahil\",21,\"15L\"],\n",
    "    [\"riyas\",22,\"10L\"],\n",
    "    [\"raihan\",24,\"20L\"]\n",
    "]\n",
    "#writing csv file\n",
    "with open(\"students.csv\",\"w\",newline=\"\")as file:\n",
    "    writer=csv.writer(file)\n",
    "    writer.writerows(data)\n",
    "print(\"csv file created succesfully\")"
   ]
  },
  {
   "cell_type": "code",
   "execution_count": 8,
   "id": "1bf95f57-d69c-4d29-8cc8-f90f356dce2e",
   "metadata": {},
   "outputs": [
    {
     "name": "stdout",
     "output_type": "stream",
     "text": [
      "['name', 'age', 'parents income']\n",
      "['sahil', '21', '15L']\n",
      "['riyas', '22', '10L']\n",
      "['raihan', '24', '20L']\n"
     ]
    }
   ],
   "source": [
    "#reading csv files\n",
    "import csv\n",
    "def readcsv():\n",
    "    with open(\"students.csv\",newline=\"\")as csv_file:\n",
    "        csv_read=csv.reader(csv_file,delimiter=\",\")\n",
    "        for row in csv_read:\n",
    "            print(row)\n",
    "readcsv()"
   ]
  },
  {
   "cell_type": "code",
   "execution_count": 20,
   "id": "3a2acc5f-75b6-4ea2-ab59-0af29717fa87",
   "metadata": {},
   "outputs": [
    {
     "name": "stdout",
     "output_type": "stream",
     "text": [
      "new row appended successfully\n"
     ]
    }
   ],
   "source": [
    "#appending data to csv\n",
    "#new row to add\n",
    "new_row=[\"salam\",25,\"8L\"]\n",
    "#Append to csv file\n",
    "with open(\"students.csv\",mode=\"a\",newline=\"\")as file:\n",
    "    writer=csv.writer(file)\n",
    "    writer.writerow(new_row)\n",
    "print(\"new row appended successfully\")"
   ]
  },
  {
   "cell_type": "code",
   "execution_count": 32,
   "id": "212587e8-c831-433d-9102-57aaf51ca6ee",
   "metadata": {},
   "outputs": [
    {
     "name": "stdout",
     "output_type": "stream",
     "text": [
      "    name  age\n",
      "0   syed   25\n",
      "1  suheb   30\n",
      "      name  age\n",
      "0     syed   25\n",
      "1    suheb   30\n",
      "2  sufiyan   35\n"
     ]
    }
   ],
   "source": [
    "#pandas with csv\n",
    "#creating, writing,reading,appending,updating\n",
    "import pandas as pd\n",
    "df=pd.DataFrame({\"name\":\n",
    "                 [\"syed\",\"suheb\"],\"age\":[25,30]})\n",
    "df.to_csv(\"data.csv\",index=False)  #using index=False to remove the row numbers and print only data\n",
    "\n",
    "#read\n",
    "print(pd.read_csv(\"data.csv\"))\n",
    "\n",
    "#append\n",
    "pd.DataFrame([{\"name\":\"sufiyan\",\"age\":35}]).to_csv(\"data.csv\",mode=\"a\",index=False,header=False)  #using index=False to remove the row numbers and print only data\n",
    "\n",
    "#update\n",
    "df=pd.read_csv(\"data.csv\")\n",
    "df.loc[df[\"name\"]==\"alyan\",\"age\"]=32\n",
    "df.to_csv(\"data.csv\",index=False)   #using index=False to remove the row numbers and print only data\n",
    "\n",
    "print(pd.read_csv(\"data.csv\"))\n"
   ]
  },
  {
   "cell_type": "code",
   "execution_count": 37,
   "id": "d49e97c3-c2a0-42c5-b350-82bda23324da",
   "metadata": {},
   "outputs": [
    {
     "name": "stdout",
     "output_type": "stream",
     "text": [
      "{'name': 'alice', 'age': 25, 'job': 'engineer'}\n",
      "{\"name\": \"alice\", \"age\": 25, \"job\": \"engineer\"}\n",
      "{'name': 'alice', 'age': 25, 'job': 'engineer'}\n"
     ]
    }
   ],
   "source": [
    "#handling json \n",
    "import json\n",
    "#python objject (dict)\n",
    "data={\"name\":\"alice\",\"age\":25,\"job\":\"engineer\"}\n",
    "\n",
    "#dump (write to file)\n",
    "with open(\"data.json\",\"w\")as f:\n",
    "    json.dump(data,f)\n",
    "\n",
    "#load (read from file)\n",
    "with open(\"data.json\",\"r\")as f:\n",
    "    obj1=json.load(f)\n",
    "print(obj1)\n",
    "\n",
    "\n",
    "#dumps(convert to json string)\n",
    "json_str=json.dumps(data)\n",
    "print(json_str)\n",
    "\n",
    "#loads(converts string back to python object)\n",
    "obj2=json.loads(json_str)\n",
    "print(obj2)"
   ]
  },
  {
   "cell_type": "code",
   "execution_count": 40,
   "id": "d1de6c42-ebad-4789-a7fa-97022484d161",
   "metadata": {},
   "outputs": [
    {
     "name": "stdout",
     "output_type": "stream",
     "text": [
      "read from excel:\n",
      "     name  age\n",
      "0  alice   25\n",
      "1    bob   30\n"
     ]
    }
   ],
   "source": [
    "#handling excel \n",
    "import pandas as pd\n",
    "data={\"name\":[\"alice\",\"bob\"],\"age\":[25,30]}\n",
    "df=pd.DataFrame(data)\n",
    "\n",
    "df.to_excel(\"myfile.xlsx\",index=False)  #using index=False to remove the row numbers and print only data\n",
    "\n",
    "\n",
    "#reading\n",
    "df_read=pd.read_excel(\"myfile.xlsx\")\n",
    "print(\"read from excel:\\n\",df_read)"
   ]
  },
  {
   "cell_type": "code",
   "execution_count": 50,
   "id": "95af7000-5133-49c3-8d69-326cbbf9a394",
   "metadata": {},
   "outputs": [
    {
     "name": "stdout",
     "output_type": "stream",
     "text": [
      "\n",
      "Data from 'Doubled' sheet:\n",
      "          name  age\n",
      "0  alicealice   50\n",
      "1      bobbob   60\n"
     ]
    }
   ],
   "source": [
    "#writing multiple sheets\n",
    "with pd.ExcelWriter(\"multi_sheets.xlsx\")as writer:\n",
    "    df.to_excel(writer,sheet_name=\"original\",index=False)  #using index=False to remove the row numbers and print only data\n",
    "    (df*2).to_excel(writer,sheet_name=\"Doubled\",index=False)  #using index=False to remove the row numbers and print only data\n",
    "\n",
    "#read specific sheet\n",
    "df_sheet=pd.read_excel(\"multi_sheets.xlsx\",sheet_name=\"Doubled\")\n",
    "print(\"\\nData from 'Doubled' sheet:\\n\",df_sheet)"
   ]
  },
  {
   "cell_type": "code",
   "execution_count": null,
   "id": "8934109a-1764-4920-a55e-5f47dd5f5a0c",
   "metadata": {},
   "outputs": [],
   "source": []
  }
 ],
 "metadata": {
  "kernelspec": {
   "display_name": "Python 3 (ipykernel)",
   "language": "python",
   "name": "python3"
  },
  "language_info": {
   "codemirror_mode": {
    "name": "ipython",
    "version": 3
   },
   "file_extension": ".py",
   "mimetype": "text/x-python",
   "name": "python",
   "nbconvert_exporter": "python",
   "pygments_lexer": "ipython3",
   "version": "3.12.4"
  }
 },
 "nbformat": 4,
 "nbformat_minor": 5
}
